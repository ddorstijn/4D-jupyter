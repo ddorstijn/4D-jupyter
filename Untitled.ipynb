{
 "cells": [
  {
   "cell_type": "markdown",
   "metadata": {},
   "source": [
    "# ND simplex visualisation\n",
    "\n",
    "More than three spacial dimensions is something humans cannot inherently understand, as we are merely three dimensional beings. Still it is a fun excersize to try to understand more about these arbitrary dimensions. A good way of visualizing higher dimensions is by projecting it down. This is a technique already used in 3D visualisation. A virtual camera projects the 3D information onto a 2D plane that is then send to the screen of your computer or tv. We can also use this for projecting higher dimensions into 3D.\n",
    "\n",
    "In this paper we will look at an implamentation of this projection in higher dimensions. Before we start we first need to import a few libraries. Numpy for matrices calculation, a couple of functions from math and our self-written vector class that handles vector data for any dimensional vector. This class provides basic functionality for linear vector calculation. "
   ]
  },
  {
   "cell_type": "code",
   "execution_count": null,
   "metadata": {},
   "outputs": [],
   "source": [
    "import numpy as np\n",
    "from math import sqrt, tan\n",
    "\n",
    "from vector import VectorN"
   ]
  },
  {
   "cell_type": "markdown",
   "metadata": {},
   "source": [
    "We use simplexes for our visualisation. Simplexes can be calculated for every dimension. A simplex is a generalization of the notion of a triangle or tetrahedron to arbitrary dimensions. And it has specific properties that help us calculate the vertices for this object. The rule for generating a simplex is that you need n+1 vertices.\n",
    "\n",
    "The coordinates of the vertices of a regular n-dimensional simplex can be obtained from these two properties:\n",
    " - For a regular simplex, the distances of its vertices to its center are equal.\n",
    " - The dimensional simplex through its center is arccos(−1/n)\n",
    " \n",
    "These can be used as follows. Let vectors (v0, v1, ..., vn) represent the vertices of an n-simplex center the origin, all unit vectors so a distance 1 from the origin, satisfying the first property. The second property means the dot product between any pair of the vectors is − 1 / n. This can be used to calculate positions for them. \n",
    "\n",
    "First we create an array of vertices. We return 0 if the dimension is zero. This is just a dot. But for consistency in returning we return a 1-dimensional point. "
   ]
  },
  {
   "cell_type": "code",
   "execution_count": null,
   "metadata": {},
   "outputs": [],
   "source": [
    "dimension = 3\n",
    "\n",
    "vertices = []\n",
    "# Return point if 0th dimension\n",
    "if dimensions == 0:\n",
    "    vertices.append(VectorN([0]))"
   ]
  },
  {
   "cell_type": "markdown",
   "metadata": {},
   "source": [
    "Because we work with unit vectors for distances we can choose a simple starting vector for our calculations. This could be any vector as long as it has a length of 1."
   ]
  },
  {
   "cell_type": "code",
   "execution_count": null,
   "metadata": {},
   "outputs": [],
   "source": [
    "# For the first vertex we choose a point 1, 0, 0, ...\n",
    "vertices.append(VectorN([1.0] + [0.0]*(dimensions-1)))"
   ]
  },
  {
   "cell_type": "markdown",
   "metadata": {},
   "source": [
    "The other vertices can be generated from this starting vector by looping through two steps. First we assume for the vector that everything after the (i + 1)th element are zeroes, where i is the . Then we take the dot product of the previous vector with our current and solve the missing element i for the dot product -1 / n.\n",
    "\n",
    "An exception is the last vector. This extra vector is the opposite of the second to last vector. There is no need for a dot product here. \n",
    "\n",
    "Afterwards we calculate the last non-zero element by using the fact that the vector should end up as a unit vector."
   ]
  },
  {
   "cell_type": "markdown",
   "metadata": {},
   "source": [
    "Solving the dot product is handled by the solve_dot_product function. "
   ]
  },
  {
   "cell_type": "code",
   "execution_count": null,
   "metadata": {},
   "outputs": [],
   "source": [
    "def solve_dot_product(vertices, index, dimensions):\n",
    "    dot_product = sum([x**2 for x in vertices[index-1][:index-1]])\n",
    "    dot_product = (-1.0/dimensions - dot_product) / vertices[index-1][index-1]\n",
    "    \n",
    "    return dot_product"
   ]
  },
  {
   "cell_type": "markdown",
   "metadata": {},
   "source": [
    "And the function for solving the unit vector."
   ]
  },
  {
   "cell_type": "code",
   "execution_count": null,
   "metadata": {},
   "outputs": [],
   "source": [
    "def solve_magnitude(vertices, index):\n",
    "    return sqrt(1.0 - sum([x**2 for x in vertices[index]]))"
   ]
  },
  {
   "cell_type": "markdown",
   "metadata": {},
   "source": [
    "This is used by the create_simplex function."
   ]
  },
  {
   "cell_type": "code",
   "execution_count": null,
   "metadata": {},
   "outputs": [],
   "source": [
    "    # Every other vertex can be generated in 2 steps\n",
    "    for i in range(1, dimensions+1):\n",
    "        vertices.append(VectorN([0]*dimensions))\n",
    "\n",
    "        for j in range(i-1):\n",
    "            vertices[i][j] = vertices[i-1][j]\n",
    "\n",
    "        # The last vertex is special because it is just the negatve\n",
    "        # of the vertex before\n",
    "        if i == dimensions:\n",
    "            vertices[i][i-1] = -vertices[i-1][i-1]\n",
    "            break\n",
    "        # Solve the first missing coordinate\n",
    "        vertices[i][i-1] = solve_dot_product(vertices, i, dimensions)\n",
    "        # Solve the second missing coordinate\n",
    "        vertices[i][i] = solve_magnitude(vertices, i)"
   ]
  },
  {
   "cell_type": "markdown",
   "metadata": {},
   "source": [
    "For the projection of higher dimensions into three dimension we have a seperate set of functions. Because we do the same projection as from 3d to 2d, we have to create seperate cameras for every dimension. This means we make use of the MVP matrices. MVP is short for Model, View, Projection and these matrices multiplied give the matrix that can project the vertices into a lower dimension. For this example we do not use a translation matrix. The view matrix is renamed to lookat matrix because we create the matrix from two values. The from vector of the camera and the to vector. This is a point the camera is looking at. "
   ]
  },
  {
   "cell_type": "code",
   "execution_count": null,
   "metadata": {},
   "outputs": [],
   "source": [
    "def get_lookat_matrix(dimensions, from_point, to_point):\n",
    "        matrix = np.identity(dimensions + 1)\n",
    "        orthogonal_vectors = []\n",
    "\n",
    "        for i in range(dimensions - 2):\n",
    "            orthogonal_vectors.append(VectorN([0]*dimensions))\n",
    "            for j in range(dimensions):\n",
    "                orthogonal_vectors[i][j] = 1.0 if (i + 1.0) == j else 0.0\n",
    " \n",
    "        to_point.subtract(from_point)\n",
    "        columns = np.identity(dimensions)\n",
    "        to_point.normalize()\n",
    "        columns[dimensions-1] = to_point.data\n",
    "\n",
    "        for i in range(dimensions - 1):\n",
    "            cross_vectors = []\n",
    "\n",
    "            for j in range(dimensions -1):\n",
    "                cross_vectors.append(VectorN([0]*dimensions))\n",
    "\n",
    "            j = i - (dimensions - 2)\n",
    "            for c in range(dimensions - 1):\n",
    "                if j < 0:\n",
    "                    cross_vectors[c] = orthogonal_vectors[(j + (dimensions - 2))]\n",
    "                elif j == 0:\n",
    "                    cross_vectors[c] = columns[(dimensions - 1)]\n",
    "                else:\n",
    "                    cross_vectors[c] = columns[(j - 1)]\n",
    "\n",
    "                j += 1\n",
    "\n",
    "            columns[i] = VectorN.get_normal(cross_vectors, dimensions).data\n",
    "\n",
    "            if i != (dimensions - 2):\n",
    "                np.linalg.norm(columns[i])\n",
    "\n",
    "        for i in range(dimensions + 1):\n",
    "            for j in range(dimensions + 1):\n",
    "                if i < dimensions and j < dimensions:\n",
    "                    matrix[i][j] = columns[j][i]\n",
    "\n",
    "        return matrix"
   ]
  },
  {
   "cell_type": "markdown",
   "metadata": {},
   "source": [
    "The code for the calculation of the matrix is quite complicated. "
   ]
  }
 ],
 "metadata": {
  "kernelspec": {
   "display_name": "Python 3",
   "language": "python",
   "name": "python3"
  },
  "language_info": {
   "codemirror_mode": {
    "name": "ipython",
    "version": 3
   },
   "file_extension": ".py",
   "mimetype": "text/x-python",
   "name": "python",
   "nbconvert_exporter": "python",
   "pygments_lexer": "ipython3",
   "version": "3.6.6"
  }
 },
 "nbformat": 4,
 "nbformat_minor": 2
}
